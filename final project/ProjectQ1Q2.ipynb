{
  "cells": [
    {
      "cell_type": "markdown",
      "metadata": {
        "id": "6IrbkK-W5hMc"
      },
      "source": [
        "## Q1- Fining web server"
      ]
    },
    {
      "cell_type": "code",
      "execution_count": null,
      "metadata": {
        "id": "cbMXd8OAvLeJ"
      },
      "outputs": [],
      "source": [
        "# find web server\n",
        "import requests\n",
        "\n",
        "def web_server(url):\n",
        "    response = requests.get(url)\n",
        "    if response.status_code == 200:\n",
        "      print('Success!')\n",
        "      print(response.headers['server'])\n",
        "    elif response.status_code == 404:\n",
        "      print('Not Found.')\n"
      ]
    },
    {
      "cell_type": "code",
      "execution_count": null,
      "metadata": {
        "colab": {
          "base_uri": "https://localhost:8080/"
        },
        "id": "904uu5bH4sre",
        "outputId": "a920caab-1266-4fda-8860-22c45b988525"
      },
      "outputs": [
        {
          "name": "stdout",
          "output_type": "stream",
          "text": [
            "Success!\n",
            "envoy\n"
          ]
        }
      ],
      "source": [
        "web_server('https://www.coursera.org/')"
      ]
    },
    {
      "cell_type": "code",
      "execution_count": null,
      "metadata": {
        "colab": {
          "base_uri": "https://localhost:8080/"
        },
        "id": "RP737q3Q1GzM",
        "outputId": "93ceba89-a42f-4196-97c3-8cb5020dacb2"
      },
      "outputs": [
        {
          "name": "stdout",
          "output_type": "stream",
          "text": [
            "Success!\n",
            "GitHub.com\n"
          ]
        }
      ],
      "source": [
        "web_server('https://github.com/')"
      ]
    },
    {
      "cell_type": "code",
      "execution_count": null,
      "metadata": {
        "colab": {
          "base_uri": "https://localhost:8080/"
        },
        "id": "VbF556LX48yT",
        "outputId": "40a8af79-d6c8-47d5-fd70-72336fe3832d"
      },
      "outputs": [
        {
          "name": "stdout",
          "output_type": "stream",
          "text": [
            "Success!\n",
            "Apache/2.4.57 () OpenSSL/1.0.2k-fips\n"
          ]
        }
      ],
      "source": [
        "web_server('https://hackr.io')"
      ]
    },
    {
      "cell_type": "code",
      "execution_count": null,
      "metadata": {
        "colab": {
          "base_uri": "https://localhost:8080/"
        },
        "id": "CqlXuPRRwN49",
        "outputId": "e13f0865-5fe9-47b9-a5f3-83b498bd0e47"
      },
      "outputs": [
        {
          "name": "stdout",
          "output_type": "stream",
          "text": [
            "Success!\n",
            "GitHub.com\n"
          ]
        }
      ],
      "source": [
        "web_server('https://aideadlin.es/')"
      ]
    },
    {
      "cell_type": "markdown",
      "metadata": {
        "id": "zNMia9wN50ij"
      },
      "source": [
        "## Q1 - Finding Location"
      ]
    },
    {
      "cell_type": "code",
      "execution_count": null,
      "metadata": {
        "id": "1VQJJ9am5OkP"
      },
      "outputs": [],
      "source": [
        "import json\n",
        "import urllib.request\n",
        "\n",
        "def location(url):\n",
        "    GEO_IP_API_URL = 'http://ip-api.com/json/'\n",
        "\n",
        "    IP_TO_SEARCH = url\n",
        "\n",
        "    # Creating request object to GeoLocation API\n",
        "    req = urllib.request.Request(GEO_IP_API_URL+IP_TO_SEARCH)\n",
        "\n",
        "    # Getting in response JSON\n",
        "    response = urllib.request.urlopen(req).read()\n",
        "\n",
        "    # Loading JSON from text to object\n",
        "    json_response = json.loads(response)\n",
        "\n",
        "    print(json_response['country']+\"/\"+json_response['city'])\n"
      ]
    },
    {
      "cell_type": "code",
      "execution_count": null,
      "metadata": {
        "colab": {
          "base_uri": "https://localhost:8080/"
        },
        "id": "dTgXIBjf6QZL",
        "outputId": "936e4c44-2a01-445d-958e-eb42fea30b1d"
      },
      "outputs": [
        {
          "name": "stdout",
          "output_type": "stream",
          "text": [
            "United States/Washington\n"
          ]
        }
      ],
      "source": [
        "location('coursera.org')"
      ]
    },
    {
      "cell_type": "code",
      "execution_count": null,
      "metadata": {
        "colab": {
          "base_uri": "https://localhost:8080/"
        },
        "id": "0ppzUExY6d4w",
        "outputId": "f8ba6530-3a4b-4fed-b500-23c80ed31931"
      },
      "outputs": [
        {
          "name": "stdout",
          "output_type": "stream",
          "text": [
            "United States/San Francisco\n"
          ]
        }
      ],
      "source": [
        "location('github.com')"
      ]
    },
    {
      "cell_type": "code",
      "execution_count": null,
      "metadata": {
        "colab": {
          "base_uri": "https://localhost:8080/"
        },
        "id": "uKmTLKlk6kUy",
        "outputId": "ed356890-01e0-4fc0-f0ef-15549c0b6a5d"
      },
      "outputs": [
        {
          "name": "stdout",
          "output_type": "stream",
          "text": [
            "United States/Dublin\n"
          ]
        }
      ],
      "source": [
        "location('hackr.io')"
      ]
    },
    {
      "cell_type": "markdown",
      "metadata": {
        "id": "0EhXNSem7Rv5"
      },
      "source": [
        "## Q1-Finding open ports"
      ]
    },
    {
      "cell_type": "markdown",
      "metadata": {
        "id": "uA1DPeZ5DcFK"
      },
      "source": [
        "### very slow and limited version"
      ]
    },
    {
      "cell_type": "code",
      "execution_count": null,
      "metadata": {
        "id": "N7dJZEDT9wh0"
      },
      "outputs": [],
      "source": [
        "import socket # for connecting\n",
        "\n",
        "def is_port_open(host, port):\n",
        "    \"\"\"\n",
        "    determine whether `host` has the `port` open\n",
        "    \"\"\"\n",
        "    # creates a new socket\n",
        "    s = socket.socket()\n",
        "    try:\n",
        "        # tries to connect to host using that port\n",
        "        s.connect((host, port))\n",
        "        # make timeout if you want it a little faster ( less accuracy )\n",
        "        # s.settimeout(0.2)\n",
        "    except:\n",
        "        # cannot connect, port is closed\n",
        "        # return false\n",
        "        return False\n",
        "    else:\n",
        "        # the connection was established, port is open!\n",
        "        return True\n",
        "\n",
        "host = 'coursera.org'\n",
        "for port in range(1, 1025):\n",
        "    if is_port_open(host, port):\n",
        "        print(f\"{host}:{port} is open\")"
      ]
    },
    {
      "cell_type": "markdown",
      "metadata": {
        "id": "Tc0x7lWIDko_"
      },
      "source": [
        "### Faster version using thread"
      ]
    },
    {
      "cell_type": "code",
      "execution_count": null,
      "metadata": {
        "id": "oyDGKonX_C_P"
      },
      "outputs": [],
      "source": [
        "import argparse\n",
        "import socket # for connecting\n",
        "from threading import Thread, Lock\n",
        "from queue import Queue\n",
        "N_THREADS = 200\n",
        "# thread queue\n",
        "q = Queue()\n",
        "print_lock = Lock()\n",
        "\n",
        "def port_scan(port):\n",
        "    \"\"\"\n",
        "    Scan a port on the global variable `host`\n",
        "    \"\"\"\n",
        "    try:\n",
        "        s = socket.socket()\n",
        "        s.connect((host, port))\n",
        "    except:\n",
        "        with print_lock:\n",
        "            print(f\"{host:15}:{port:5} is closed \", end='\\r')\n",
        "    else:\n",
        "        with print_lock:\n",
        "            print(f\"{host:15}:{port:5} is open \")\n",
        "    finally:\n",
        "        s.close()"
      ]
    },
    {
      "cell_type": "code",
      "execution_count": null,
      "metadata": {
        "id": "oJwyL9mR_Ns9"
      },
      "outputs": [],
      "source": [
        "def scan_thread():\n",
        "    global q\n",
        "    while True:\n",
        "        # get the port number from the queue\n",
        "        worker = q.get()\n",
        "        # scan that port number\n",
        "        port_scan(worker)\n",
        "        # tells the queue that the scanning for that port\n",
        "        # is done\n",
        "        q.task_done()\n",
        "\n",
        "\n",
        "def main(host, ports):\n",
        "    global q\n",
        "    for t in range(N_THREADS):\n",
        "        # for each thread, start it\n",
        "        t = Thread(target=scan_thread)\n",
        "        # when we set daemon to true, that thread will end when the main thread ends\n",
        "        t.daemon = True\n",
        "        # start the daemon thread\n",
        "        t.start()\n",
        "    for worker in ports:\n",
        "        # for each port, put that port into the queue\n",
        "        # to start scanning\n",
        "        q.put(worker)\n",
        "    # wait the threads ( port scanners ) to finish\n",
        "    q.join()"
      ]
    },
    {
      "cell_type": "code",
      "execution_count": null,
      "metadata": {
        "colab": {
          "base_uri": "https://localhost:8080/"
        },
        "id": "X6_BSOuS_0x4",
        "outputId": "3c3cb7f6-de06-419e-e0aa-08387917340d"
      },
      "outputs": [
        {
          "name": "stdout",
          "output_type": "stream",
          "text": [
            "coursera.org   :   80 is open \n",
            "coursera.org   :  443 is open \n"
          ]
        }
      ],
      "source": [
        "if __name__ == \"__main__\":\n",
        "    host = 'coursera.org'\n",
        "    start_port= 1\n",
        "    end_port = 800\n",
        "    ports = [ p for p in range(start_port, end_port)]\n",
        "\n",
        "    main(host, ports)"
      ]
    },
    {
      "cell_type": "markdown",
      "metadata": {
        "id": "tsoAmzY2EHWk"
      },
      "source": [
        "## Finding emails"
      ]
    },
    {
      "cell_type": "code",
      "execution_count": null,
      "metadata": {
        "id": "8ZJXoIrRAAGs"
      },
      "outputs": [],
      "source": [
        "import re\n",
        "import requests\n",
        "import requests.exceptions\n",
        "from urllib.parse import urlsplit\n",
        "from collections import deque\n",
        "from bs4 import BeautifulSoup\n",
        "\n",
        "def emails(url):\n",
        "    # starting url. replace google with your own url.\n",
        "    starting_url = url\n",
        "\n",
        "    # a queue of urls to be crawled\n",
        "    unprocessed_urls = deque([starting_url])\n",
        "\n",
        "    # set of already crawled urls for email\n",
        "    processed_urls = set()\n",
        "\n",
        "    # a set of fetched emails\n",
        "    emails = set()\n",
        "\n",
        "    # process urls one by one from unprocessed_url queue until queue is empty\n",
        "    while len(unprocessed_urls):\n",
        "\n",
        "        # move next url from the queue to the set of processed urls\n",
        "        url = unprocessed_urls.popleft()\n",
        "        processed_urls.add(url)\n",
        "\n",
        "        # extract base url to resolve relative links\n",
        "        parts = urlsplit(url)\n",
        "        base_url = \"{0.scheme}://{0.netloc}\".format(parts)\n",
        "        path = url[:url.rfind('/')+1] if '/' in parts.path else url\n",
        "\n",
        "        # get url's content\n",
        "        print(\"Crawling URL %s\" % url)\n",
        "        try:\n",
        "            response = requests.get(url)\n",
        "        except (requests.exceptions.MissingSchema, requests.exceptions.ConnectionError):\n",
        "            # ignore pages with errors and continue with next url\n",
        "            continue\n",
        "\n",
        "        # extract all email addresses and add them into the resulting set\n",
        "        new_emails = set(re.findall(r\"[a-z0-9\\.\\-+_]+@[a-z0-9\\.\\-+_]+\\.[a-z]+\", response.text, re.I))\n",
        "        emails.update(new_emails)\n",
        "        print(emails)\n",
        "        with open('emails.txt', 'a', encoding='utf-8') as f:\n",
        "            for email in new_emails:\n",
        "                f.writelines(email + \"\\n\")\n",
        "\n",
        "        # create a beutiful soup for the html document\n",
        "        soup = BeautifulSoup(response.text, 'lxml')\n",
        "\n",
        "        # Once this document is parsed and processed, now find and process all the anchors i.e. linked urls in this document\n",
        "        for anchor in soup.find_all(\"a\"):\n",
        "            # extract link url from the anchor\n",
        "            link = anchor.attrs[\"href\"] if \"href\" in anchor.attrs else ''\n",
        "            # resolve relative links (starting with /)\n",
        "            if link.startswith('/'):\n",
        "                link = base_url + link\n",
        "            elif not link.startswith('http'):\n",
        "                link = path + link\n",
        "            # add the new url to the queue if it was not in unprocessed list nor in processed list yet\n",
        "            if not link in unprocessed_urls and not link in processed_urls:\n",
        "                unprocessed_urls.append(link)\n"
      ]
    },
    {
      "cell_type": "code",
      "source": [
        "emails('https://github.com/')"
      ],
      "metadata": {
        "id": "wj-bObkzmU6R"
      },
      "execution_count": null,
      "outputs": []
    }
  ],
  "metadata": {
    "colab": {
      "collapsed_sections": [
        "uA1DPeZ5DcFK"
      ],
      "provenance": []
    },
    "kernelspec": {
      "display_name": "Python 3",
      "name": "python3"
    },
    "language_info": {
      "name": "python"
    }
  },
  "nbformat": 4,
  "nbformat_minor": 0
}